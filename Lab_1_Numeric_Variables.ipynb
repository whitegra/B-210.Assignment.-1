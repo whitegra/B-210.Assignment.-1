{
  "nbformat": 4,
  "nbformat_minor": 0,
  "metadata": {
    "colab": {
      "provenance": [],
      "authorship_tag": "ABX9TyM8arLkcrU00o35BgQGJFC1",
      "include_colab_link": true
    },
    "kernelspec": {
      "name": "python3",
      "display_name": "Python 3"
    },
    "language_info": {
      "name": "python"
    }
  },
  "cells": [
    {
      "cell_type": "markdown",
      "metadata": {
        "id": "view-in-github",
        "colab_type": "text"
      },
      "source": [
        "<a href=\"https://colab.research.google.com/github/whitegra/B-210.Assignment.-1/blob/main/Lab_1_Numeric_Variables.ipynb\" target=\"_parent\"><img src=\"https://colab.research.google.com/assets/colab-badge.svg\" alt=\"Open In Colab\"/></a>"
      ]
    },
    {
      "cell_type": "code",
      "execution_count": null,
      "metadata": {
        "id": "VoOjtUc4E7nu",
        "outputId": "f4ec16bf-ab42-4461-82af-3bfd52a74f43",
        "colab": {
          "base_uri": "https://localhost:8080/"
        }
      },
      "outputs": [
        {
          "output_type": "stream",
          "name": "stdout",
          "text": [
            "Prompt #1, Prompt #2, & Prompt #3:\n",
            "\n",
            "Enter the value of var_1:\n",
            "3\n",
            "Enter the value of var_2:\n",
            "12\n",
            "Enter the value of var_3:\n",
            "13.0\n",
            "Enter the value of var_4:\n",
            "3.14\n",
            "Would you like to overwrite the value of var_2?:\n",
            "yes\n",
            "what is the new value of var_2?:\n",
            "13\n",
            "13\n",
            "Is this the correct value for var_2?:\n",
            "yes\n",
            "Prompt #4 & Prompt #5:\n",
            "\n",
            "Type of variable for var_1: <class 'int'>\n",
            "Type of variable for var_2: <class 'int'>\n",
            "Type of variable for var_3: <class 'float'>\n",
            "Type of variable for var_4: <class 'float'>\n",
            "The reason var_1 and var_3 are different variables is because an integer may not contain decimal places (as in var_2), while a float contains decimal places (as in var_3). In python, data types and variables are assigned based on this logic.\n",
            "\n",
            "Prompt #6:\n",
            "22.0\n",
            "The reason the result is 22 is because many programming languages such as python evaluate math functions per order of opperations.\n",
            "\n",
            "Prompt #7 - Prompt #10:\n",
            "\n",
            "9\n",
            "4.0\n",
            "0.14000000000000012\n",
            "The difference bewtween modulus division and floor division is that modulus division returns the remainder of the quotient, while floor division returns the rounded answer without remainders.\n",
            "\n"
          ]
        }
      ],
      "source": [
        "print('Lab #1, Numeric Variables.\\n')\n",
        "print(\"Prompt #1, Prompt #2, & Prompt #3:\\n\")\n",
        "\n",
        "# the input function is so that users can type in the numbers\n",
        "var_1 = int(input('Enter the value of var_1:\\n'))\n",
        "var_2 = float(input('Enter the value of var_2:\\n'))\n",
        "var_3 = float(input('Enter the value of var_3:\\n'))\n",
        "var_4 = float(input('Enter the value of var_4:\\n'))\n",
        "\n",
        "# override var_2 & printing var_2\n",
        "over_write = input('Would you like to overwrite the value of var_2?:\\n')\n",
        "\n",
        "if over_write == 'yes':\n",
        "    var_2 = int(input('what is the new value of var_2?:\\n'))\n",
        "    print(var_2)\n",
        "    correct = input('Is this the correct value for var_2?:\\n')\n",
        "    if correct == 'yes':\n",
        "        pass #this will make the code continue to run without exiting\n",
        "\n",
        "print('Prompt #4 & Prompt #5:\\n')\n",
        "print('Type of variable for var_1:', type(var_1))\n",
        "print('Type of variable for var_2:', type(var_2))\n",
        "print('Type of variable for var_3:', type(var_3))\n",
        "print('Type of variable for var_4:', type(var_4))\n",
        "\n",
        "print('The reason var_1 and var_3 are different variables is because an integer may not contain decimal places (as in var_2), while a float contains decimal places (as in var_3). In python, data types and variables are assigned based on this logic.\\n')\n",
        "\n",
        "print('Prompt #6:')\n",
        "# order of opperations example\n",
        "math_result = var_1 * var_1 + var_3\n",
        "print(math_result)\n",
        "print('The reason the result is 22 is because many programming languages such as python evaluate math functions per order of opperations.\\n')\n",
        "\n",
        "print('Prompt #7 - Prompt #10:\\n')\n",
        "# var_1 squared:\n",
        "var_1_sqaured = var_1 **2\n",
        "print(var_1_sqaured)\n",
        "# var_3 / var_1:\n",
        "floor_division = var_3 // var_1\n",
        "print(floor_division)\n",
        "# modulus var_4 / var_1:\n",
        "modulus_division = var_4 % var_1\n",
        "print(modulus_division)\n",
        "\n",
        "print('The difference bewtween modulus division and floor division is that modulus division returns the remainder of the quotient, while floor division returns the rounded answer without remainders.\\n')"
      ]
    }
  ]
}